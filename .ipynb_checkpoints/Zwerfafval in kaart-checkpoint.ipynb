{
 "cells": [
  {
   "cell_type": "markdown",
   "metadata": {},
   "source": [
    "# Zwerfval\n",
    "\n",
    "![Zwerfval in New York](https://upload.wikimedia.org/wikipedia/commons/thumb/9/9a/Litter_New_York_City.JPG/1024px-Litter_New_York_City.JPG \"Zwerfafval in New York\")\n",
    "\n",
    "Zwerfafval is vervelend. Wie is er eigenlijk niet tegen? RWS in ieder geval wel, want we zijn een van de partijen achter GemeenteSchoon: Het kenniscentrum dat gemeenten helpt tegen zwerfafval. \n",
    "\n",
    "Een probleem is inzicht krijgen in hoe groot het probleem nou is, en waar het zit. In deze opdracht gaan we bronnen verzamelen en combineren om zo een overzicht te krijgen van het zwerfafvalprobleem. Gebruik hierbij de tools die je net gepresenteerd kreeg.\n",
    "\n",
    "\n",
    "> Hieronder vind je een dataset (verkregen van Verbeterdebuurt.nl) met allerlei meldingen gedaan door burgers. \n",
    ">  1. Verken deze dataset met de snippets die je hieronder vind. \n",
    ">  2. Filter de relevante meldingen\n",
    ">  3. Krijg een indruk van wat er speelt en waar"
   ]
  },
  {
   "cell_type": "markdown",
   "metadata": {},
   "source": [
    "## Het inladen van meldingen"
   ]
  },
  {
   "cell_type": "code",
   "execution_count": 1,
   "metadata": {},
   "outputs": [],
   "source": [
    "import pandas as pd \n",
    "df = pd.read_csv(\"data/vdv_problems_2018.csv\")"
   ]
  },
  {
   "cell_type": "code",
   "execution_count": 2,
   "metadata": {},
   "outputs": [
    {
     "data": {
      "text/plain": [
       "70109"
      ]
     },
     "execution_count": 2,
     "metadata": {},
     "output_type": "execute_result"
    }
   ],
   "source": [
    "len(df)"
   ]
  },
  {
   "cell_type": "code",
   "execution_count": 31,
   "metadata": {},
   "outputs": [
    {
     "data": {
      "text/plain": [
       "70108"
      ]
     },
     "execution_count": 31,
     "metadata": {},
     "output_type": "execute_result"
    }
   ],
   "source": [
    "df = df[df.Date.str.contains('^2018')]\n",
    "len(df)"
   ]
  },
  {
   "cell_type": "markdown",
   "metadata": {},
   "source": [
    "* We hebben nu 70.108 meldingen uit 2018.  \n",
    "* We gaan straks kijken wat we hier mee kunnen. \n",
    "* Bedenk dat dit uit een enkele bron komt.\n",
    "\n",
    "> Bekijk https://data.overheid.nl/dataset/1/25?search=mor om een beeld te vormen van andere mogelijke bronnen"
   ]
  },
  {
   "cell_type": "markdown",
   "metadata": {},
   "source": [
    "## Verkennen wat er in zit\n",
    "* Voer onderstaande regels uit\n",
    "* Pas de regels aan om je een beeld te vormen van de inhoud\n",
    "* Neem even een moment om bijvoorbeeld een beeld te vormen van image_url en lat en lon"
   ]
  },
  {
   "cell_type": "code",
   "execution_count": 3,
   "metadata": {},
   "outputs": [
    {
     "data": {
      "text/html": [
       "<div>\n",
       "<style scoped>\n",
       "    .dataframe tbody tr th:only-of-type {\n",
       "        vertical-align: middle;\n",
       "    }\n",
       "\n",
       "    .dataframe tbody tr th {\n",
       "        vertical-align: top;\n",
       "    }\n",
       "\n",
       "    .dataframe thead th {\n",
       "        text-align: right;\n",
       "    }\n",
       "</style>\n",
       "<table border=\"1\" class=\"dataframe\">\n",
       "  <thead>\n",
       "    <tr style=\"text-align: right;\">\n",
       "      <th></th>\n",
       "      <th>Title</th>\n",
       "      <th>Description</th>\n",
       "      <th>Category</th>\n",
       "      <th>Date</th>\n",
       "      <th>lat</th>\n",
       "      <th>lon</th>\n",
       "      <th>Image_url</th>\n",
       "    </tr>\n",
       "  </thead>\n",
       "  <tbody>\n",
       "    <tr>\n",
       "      <td>0</td>\n",
       "      <td>Mobiele melding</td>\n",
       "      <td>Rommel bij de afvalcontainer bij parkeerplaats...</td>\n",
       "      <td>Afval</td>\n",
       "      <td>2018-01-01 12:43:52</td>\n",
       "      <td>51.374557</td>\n",
       "      <td>6.140902</td>\n",
       "      <td>https://www.verbeterdebuurt.nl/uploads/issues/...</td>\n",
       "    </tr>\n",
       "    <tr>\n",
       "      <td>1</td>\n",
       "      <td>Mobiele melding</td>\n",
       "      <td>Afval met (drugs)naalden. Locatie tijdelijk pa...</td>\n",
       "      <td>Afval</td>\n",
       "      <td>2018-01-01 14:24:42</td>\n",
       "      <td>52.322388</td>\n",
       "      <td>4.852539</td>\n",
       "      <td>https://www.verbeterdebuurt.nl/uploads/issues/...</td>\n",
       "    </tr>\n",
       "    <tr>\n",
       "      <td>2</td>\n",
       "      <td>Mobiele melding</td>\n",
       "      <td>Bezoek van de buren heeft heel zwaar vuurwerk ...</td>\n",
       "      <td>Afval</td>\n",
       "      <td>2018-01-01 16:44:33</td>\n",
       "      <td>52.332981</td>\n",
       "      <td>4.799058</td>\n",
       "      <td>https://www.verbeterdebuurt.nl/uploads/issues/...</td>\n",
       "    </tr>\n",
       "    <tr>\n",
       "      <td>3</td>\n",
       "      <td>Mobiele melding</td>\n",
       "      <td>De grote groep bewoners van nummer 194 hebben ...</td>\n",
       "      <td>Afval</td>\n",
       "      <td>2018-01-01 16:47:39</td>\n",
       "      <td>52.332989</td>\n",
       "      <td>4.798876</td>\n",
       "      <td>https://www.verbeterdebuurt.nl/uploads/issues/...</td>\n",
       "    </tr>\n",
       "    <tr>\n",
       "      <td>4</td>\n",
       "      <td>Mobiele melding</td>\n",
       "      <td>De ondergrondse papiercontainer achter Albert ...</td>\n",
       "      <td>Afval</td>\n",
       "      <td>2018-01-01 17:10:03</td>\n",
       "      <td>52.105183</td>\n",
       "      <td>5.013888</td>\n",
       "      <td>NaN</td>\n",
       "    </tr>\n",
       "  </tbody>\n",
       "</table>\n",
       "</div>"
      ],
      "text/plain": [
       "             Title                                        Description  \\\n",
       "0  Mobiele melding  Rommel bij de afvalcontainer bij parkeerplaats...   \n",
       "1  Mobiele melding  Afval met (drugs)naalden. Locatie tijdelijk pa...   \n",
       "2  Mobiele melding  Bezoek van de buren heeft heel zwaar vuurwerk ...   \n",
       "3  Mobiele melding  De grote groep bewoners van nummer 194 hebben ...   \n",
       "4  Mobiele melding  De ondergrondse papiercontainer achter Albert ...   \n",
       "\n",
       "  Category                 Date        lat       lon  \\\n",
       "0    Afval  2018-01-01 12:43:52  51.374557  6.140902   \n",
       "1    Afval  2018-01-01 14:24:42  52.322388  4.852539   \n",
       "2    Afval  2018-01-01 16:44:33  52.332981  4.799058   \n",
       "3    Afval  2018-01-01 16:47:39  52.332989  4.798876   \n",
       "4    Afval  2018-01-01 17:10:03  52.105183  5.013888   \n",
       "\n",
       "                                           Image_url  \n",
       "0  https://www.verbeterdebuurt.nl/uploads/issues/...  \n",
       "1  https://www.verbeterdebuurt.nl/uploads/issues/...  \n",
       "2  https://www.verbeterdebuurt.nl/uploads/issues/...  \n",
       "3  https://www.verbeterdebuurt.nl/uploads/issues/...  \n",
       "4                                                NaN  "
      ]
     },
     "execution_count": 3,
     "metadata": {},
     "output_type": "execute_result"
    }
   ],
   "source": [
    "df.head()"
   ]
  },
  {
   "cell_type": "code",
   "execution_count": 4,
   "metadata": {},
   "outputs": [
    {
     "data": {
      "text/plain": [
       "count     70109\n",
       "unique       91\n",
       "top       Afval\n",
       "freq       9606\n",
       "Name: Category, dtype: object"
      ]
     },
     "execution_count": 4,
     "metadata": {},
     "output_type": "execute_result"
    }
   ],
   "source": [
    "df[\"Category\"].describe()"
   ]
  },
  {
   "cell_type": "code",
   "execution_count": 12,
   "metadata": {},
   "outputs": [
    {
     "data": {
      "text/plain": [
       "'Rommel bij de afvalcontainer bij parkeerplaats Aldi'"
      ]
     },
     "execution_count": 12,
     "metadata": {},
     "output_type": "execute_result"
    }
   ],
   "source": [
    "df[\"Description\"][0]"
   ]
  },
  {
   "cell_type": "code",
   "execution_count": 13,
   "metadata": {},
   "outputs": [
    {
     "data": {
      "text/plain": [
       "'https://www.verbeterdebuurt.nl/uploads/issues/photos/bb10bbf95e679757e3658b8f62f0bc9defe50ece.jpg'"
      ]
     },
     "execution_count": 13,
     "metadata": {},
     "output_type": "execute_result"
    }
   ],
   "source": [
    "df[\"Image_url\"][0]"
   ]
  },
  {
   "cell_type": "markdown",
   "metadata": {},
   "source": [
    "## Plotten\n",
    "Hieronder gebruiken we matplotlib om een beeld te vormen van de inhoud"
   ]
  },
  {
   "cell_type": "code",
   "execution_count": 46,
   "metadata": {},
   "outputs": [],
   "source": [
    "import matplotlib.pyplot as plt\n"
   ]
  },
  {
   "cell_type": "markdown",
   "metadata": {},
   "source": [
    "### Eerst gaan we eens kijken wanneer wat binnen komt door het jaar heen"
   ]
  },
  {
   "cell_type": "code",
   "execution_count": 48,
   "metadata": {},
   "outputs": [
    {
     "data": {
      "text/html": [
       "<div>\n",
       "<style scoped>\n",
       "    .dataframe tbody tr th:only-of-type {\n",
       "        vertical-align: middle;\n",
       "    }\n",
       "\n",
       "    .dataframe tbody tr th {\n",
       "        vertical-align: top;\n",
       "    }\n",
       "\n",
       "    .dataframe thead th {\n",
       "        text-align: right;\n",
       "    }\n",
       "</style>\n",
       "<table border=\"1\" class=\"dataframe\">\n",
       "  <thead>\n",
       "    <tr style=\"text-align: right;\">\n",
       "      <th></th>\n",
       "      <th>date</th>\n",
       "      <th>count</th>\n",
       "    </tr>\n",
       "  </thead>\n",
       "  <tbody>\n",
       "    <tr>\n",
       "      <td>0</td>\n",
       "      <td>2018-07-02</td>\n",
       "      <td>515</td>\n",
       "    </tr>\n",
       "    <tr>\n",
       "      <td>1</td>\n",
       "      <td>2018-06-11</td>\n",
       "      <td>427</td>\n",
       "    </tr>\n",
       "    <tr>\n",
       "      <td>2</td>\n",
       "      <td>2018-07-09</td>\n",
       "      <td>402</td>\n",
       "    </tr>\n",
       "    <tr>\n",
       "      <td>3</td>\n",
       "      <td>2018-10-22</td>\n",
       "      <td>379</td>\n",
       "    </tr>\n",
       "    <tr>\n",
       "      <td>4</td>\n",
       "      <td>2018-07-17</td>\n",
       "      <td>378</td>\n",
       "    </tr>\n",
       "  </tbody>\n",
       "</table>\n",
       "</div>"
      ],
      "text/plain": [
       "        date  count\n",
       "0 2018-07-02    515\n",
       "1 2018-06-11    427\n",
       "2 2018-07-09    402\n",
       "3 2018-10-22    379\n",
       "4 2018-07-17    378"
      ]
     },
     "execution_count": 48,
     "metadata": {},
     "output_type": "execute_result"
    }
   ],
   "source": [
    "aantal_per_dag = (pd.to_datetime(df['Date'])\n",
    "       .dt.floor('d')\n",
    "       .value_counts()\n",
    "       .rename_axis('date')\n",
    "       .reset_index(name='count'))\n",
    "aantal_per_dag.head()"
   ]
  },
  {
   "cell_type": "code",
   "execution_count": 49,
   "metadata": {},
   "outputs": [
    {
     "data": {
      "text/plain": [
       "<matplotlib.axes._subplots.AxesSubplot at 0x11b99a390>"
      ]
     },
     "execution_count": 49,
     "metadata": {},
     "output_type": "execute_result"
    },
    {
     "data": {
      "image/png": "[encoded data removed]",
      "text/plain": [
       "<Figure size 432x288 with 1 Axes>"
      ]
     },
     "metadata": {
      "needs_background": "light"
     },
     "output_type": "display_data"
    }
   ],
   "source": [
    "aantal_per_dag.set_index('date').plot()"
   ]
  },
  {
   "cell_type": "markdown",
   "metadata": {},
   "source": [
    "### En nu een klein beetje anders\n",
    "> * Wat is er anders?\n",
    "> * Waarom kan dat handig zijn?"
   ]
  },
  {
   "cell_type": "code",
   "execution_count": 45,
   "metadata": {},
   "outputs": [
    {
     "data": {
      "text/plain": [
       "<matplotlib.axes._subplots.AxesSubplot at 0x104e4edd0>"
      ]
     },
     "execution_count": 45,
     "metadata": {},
     "output_type": "execute_result"
    },
    {
     "data": {
      "image/png": "[encoded data removed]",
      "text/plain": [
       "<Figure size 432x288 with 1 Axes>"
      ]
     },
     "metadata": {
      "needs_background": "light"
     },
     "output_type": "display_data"
    }
   ],
   "source": [
    "(pd.to_datetime(df['Date'])\n",
    "       .dt.floor('30d')\n",
    "       .value_counts()\n",
    "       .rename_axis('date')\n",
    "       .reset_index(name='count')).set_index(\"date\").plot()"
   ]
  },
  {
   "cell_type": "markdown",
   "metadata": {},
   "source": [
    "### Hoe zit dat per uur?"
   ]
  },
  {
   "cell_type": "code",
   "execution_count": 64,
   "metadata": {},
   "outputs": [
    {
     "ename": "AttributeError",
     "evalue": "'Int64Index' object has no attribute 'remove_unused_levels'",
     "output_type": "error",
     "traceback": [
      "\u001b[0;31m---------------------------------------------------------------------------\u001b[0m",
      "\u001b[0;31mAttributeError\u001b[0m                            Traceback (most recent call last)",
      "\u001b[0;32m<ipython-input-64-c29dfb65f925>\u001b[0m in \u001b[0;36m<module>\u001b[0;34m\u001b[0m\n\u001b[1;32m      1\u001b[0m \u001b[0mdates\u001b[0m \u001b[0;34m=\u001b[0m \u001b[0mpd\u001b[0m\u001b[0;34m.\u001b[0m\u001b[0mto_datetime\u001b[0m\u001b[0;34m(\u001b[0m\u001b[0mdf\u001b[0m\u001b[0;34m[\u001b[0m\u001b[0;34m'Date'\u001b[0m\u001b[0;34m]\u001b[0m\u001b[0;34m)\u001b[0m\u001b[0;34m\u001b[0m\u001b[0;34m\u001b[0m\u001b[0m\n\u001b[0;32m----> 2\u001b[0;31m \u001b[0mdates\u001b[0m\u001b[0;34m.\u001b[0m\u001b[0mgroupby\u001b[0m\u001b[0;34m(\u001b[0m\u001b[0mdf\u001b[0m\u001b[0;34m[\u001b[0m\u001b[0;34m'Date'\u001b[0m\u001b[0;34m]\u001b[0m\u001b[0;34m.\u001b[0m\u001b[0mdt\u001b[0m\u001b[0;34m.\u001b[0m\u001b[0mhour\u001b[0m\u001b[0;34m)\u001b[0m\u001b[0;34m.\u001b[0m\u001b[0mcount\u001b[0m\u001b[0;34m(\u001b[0m\u001b[0;34m)\u001b[0m\u001b[0;34m.\u001b[0m\u001b[0munstack\u001b[0m\u001b[0;34m(\u001b[0m\u001b[0;34m)\u001b[0m\u001b[0;34m.\u001b[0m\u001b[0mplot\u001b[0m\u001b[0;34m(\u001b[0m\u001b[0;34m)\u001b[0m\u001b[0;34m\u001b[0m\u001b[0;34m\u001b[0m\u001b[0m\n\u001b[0m",
      "\u001b[0;32m//anaconda3/envs/zwerfafval/lib/python3.7/site-packages/pandas/core/series.py\u001b[0m in \u001b[0;36munstack\u001b[0;34m(self, level, fill_value)\u001b[0m\n\u001b[1;32m   3743\u001b[0m         \u001b[0;32mfrom\u001b[0m \u001b[0mpandas\u001b[0m\u001b[0;34m.\u001b[0m\u001b[0mcore\u001b[0m\u001b[0;34m.\u001b[0m\u001b[0mreshape\u001b[0m\u001b[0;34m.\u001b[0m\u001b[0mreshape\u001b[0m \u001b[0;32mimport\u001b[0m \u001b[0munstack\u001b[0m\u001b[0;34m\u001b[0m\u001b[0;34m\u001b[0m\u001b[0m\n\u001b[1;32m   3744\u001b[0m \u001b[0;34m\u001b[0m\u001b[0m\n\u001b[0;32m-> 3745\u001b[0;31m         \u001b[0;32mreturn\u001b[0m \u001b[0munstack\u001b[0m\u001b[0;34m(\u001b[0m\u001b[0mself\u001b[0m\u001b[0;34m,\u001b[0m \u001b[0mlevel\u001b[0m\u001b[0;34m,\u001b[0m \u001b[0mfill_value\u001b[0m\u001b[0;34m)\u001b[0m\u001b[0;34m\u001b[0m\u001b[0;34m\u001b[0m\u001b[0m\n\u001b[0m\u001b[1;32m   3746\u001b[0m \u001b[0;34m\u001b[0m\u001b[0m\n\u001b[1;32m   3747\u001b[0m     \u001b[0;31m# ----------------------------------------------------------------------\u001b[0m\u001b[0;34m\u001b[0m\u001b[0;34m\u001b[0m\u001b[0;34m\u001b[0m\u001b[0m\n",
      "\u001b[0;32m//anaconda3/envs/zwerfafval/lib/python3.7/site-packages/pandas/core/reshape/reshape.py\u001b[0m in \u001b[0;36munstack\u001b[0;34m(obj, level, fill_value)\u001b[0m\n\u001b[1;32m    421\u001b[0m             \u001b[0mlevel\u001b[0m\u001b[0;34m=\u001b[0m\u001b[0mlevel\u001b[0m\u001b[0;34m,\u001b[0m\u001b[0;34m\u001b[0m\u001b[0;34m\u001b[0m\u001b[0m\n\u001b[1;32m    422\u001b[0m             \u001b[0mfill_value\u001b[0m\u001b[0;34m=\u001b[0m\u001b[0mfill_value\u001b[0m\u001b[0;34m,\u001b[0m\u001b[0;34m\u001b[0m\u001b[0;34m\u001b[0m\u001b[0m\n\u001b[0;32m--> 423\u001b[0;31m             \u001b[0mconstructor\u001b[0m\u001b[0;34m=\u001b[0m\u001b[0mobj\u001b[0m\u001b[0;34m.\u001b[0m\u001b[0m_constructor_expanddim\u001b[0m\u001b[0;34m,\u001b[0m\u001b[0;34m\u001b[0m\u001b[0;34m\u001b[0m\u001b[0m\n\u001b[0m\u001b[1;32m    424\u001b[0m         )\n\u001b[1;32m    425\u001b[0m         \u001b[0;32mreturn\u001b[0m \u001b[0munstacker\u001b[0m\u001b[0;34m.\u001b[0m\u001b[0mget_result\u001b[0m\u001b[0;34m(\u001b[0m\u001b[0;34m)\u001b[0m\u001b[0;34m\u001b[0m\u001b[0;34m\u001b[0m\u001b[0m\n",
      "\u001b[0;32m//anaconda3/envs/zwerfafval/lib/python3.7/site-packages/pandas/core/reshape/reshape.py\u001b[0m in \u001b[0;36m__init__\u001b[0;34m(self, values, index, level, value_columns, fill_value, constructor)\u001b[0m\n\u001b[1;32m    110\u001b[0m             \u001b[0;32mraise\u001b[0m \u001b[0mValueError\u001b[0m\u001b[0;34m(\u001b[0m\u001b[0;34m\"must pass column labels for multi-column data\"\u001b[0m\u001b[0;34m)\u001b[0m\u001b[0;34m\u001b[0m\u001b[0;34m\u001b[0m\u001b[0m\n\u001b[1;32m    111\u001b[0m \u001b[0;34m\u001b[0m\u001b[0m\n\u001b[0;32m--> 112\u001b[0;31m         \u001b[0mself\u001b[0m\u001b[0;34m.\u001b[0m\u001b[0mindex\u001b[0m \u001b[0;34m=\u001b[0m \u001b[0mindex\u001b[0m\u001b[0;34m.\u001b[0m\u001b[0mremove_unused_levels\u001b[0m\u001b[0;34m(\u001b[0m\u001b[0;34m)\u001b[0m\u001b[0;34m\u001b[0m\u001b[0;34m\u001b[0m\u001b[0m\n\u001b[0m\u001b[1;32m    113\u001b[0m \u001b[0;34m\u001b[0m\u001b[0m\n\u001b[1;32m    114\u001b[0m         \u001b[0mself\u001b[0m\u001b[0;34m.\u001b[0m\u001b[0mlevel\u001b[0m \u001b[0;34m=\u001b[0m \u001b[0mself\u001b[0m\u001b[0;34m.\u001b[0m\u001b[0mindex\u001b[0m\u001b[0;34m.\u001b[0m\u001b[0m_get_level_number\u001b[0m\u001b[0;34m(\u001b[0m\u001b[0mlevel\u001b[0m\u001b[0;34m)\u001b[0m\u001b[0;34m\u001b[0m\u001b[0;34m\u001b[0m\u001b[0m\n",
      "\u001b[0;31mAttributeError\u001b[0m: 'Int64Index' object has no attribute 'remove_unused_levels'"
     ]
    }
   ],
   "source": [
    "dates = pd.to_datetime(df['Date'])\n",
    "dates.groupby(df['Date'].dt.hour).count().unstack().plot()"
   ]
  },
  {
   "cell_type": "code",
   "execution_count": 66,
   "metadata": {},
   "outputs": [
    {
     "data": {
      "text/plain": [
       "<matplotlib.axes._subplots.AxesSubplot at 0x11b826290>"
      ]
     },
     "execution_count": 66,
     "metadata": {},
     "output_type": "execute_result"
    },
    {
     "data": {
      "image/png": "[encoded data removed]",
      "text/plain": [
       "<Figure size 432x288 with 1 Axes>"
      ]
     },
     "metadata": {
      "needs_background": "light"
     },
     "output_type": "display_data"
    }
   ],
   "source": [
    "dates.dt.hour.plot()"
   ]
  },
  {
   "cell_type": "code",
   "execution_count": 59,
   "metadata": {},
   "outputs": [
    {
     "data": {
      "text/html": [
       "<div>\n",
       "<style scoped>\n",
       "    .dataframe tbody tr th:only-of-type {\n",
       "        vertical-align: middle;\n",
       "    }\n",
       "\n",
       "    .dataframe tbody tr th {\n",
       "        vertical-align: top;\n",
       "    }\n",
       "\n",
       "    .dataframe thead th {\n",
       "        text-align: right;\n",
       "    }\n",
       "</style>\n",
       "<table border=\"1\" class=\"dataframe\">\n",
       "  <thead>\n",
       "    <tr style=\"text-align: right;\">\n",
       "      <th></th>\n",
       "      <th>Title</th>\n",
       "      <th>Description</th>\n",
       "      <th>Category</th>\n",
       "      <th>Date</th>\n",
       "      <th>lat</th>\n",
       "      <th>lon</th>\n",
       "      <th>Image_url</th>\n",
       "    </tr>\n",
       "  </thead>\n",
       "  <tbody>\n",
       "    <tr>\n",
       "      <td>0</td>\n",
       "      <td>Mobiele melding</td>\n",
       "      <td>Rommel bij de afvalcontainer bij parkeerplaats...</td>\n",
       "      <td>Afval</td>\n",
       "      <td>2018-01-01 12:43:52</td>\n",
       "      <td>51.374557</td>\n",
       "      <td>6.140902</td>\n",
       "      <td>https://www.verbeterdebuurt.nl/uploads/issues/...</td>\n",
       "    </tr>\n",
       "    <tr>\n",
       "      <td>1</td>\n",
       "      <td>Mobiele melding</td>\n",
       "      <td>Afval met (drugs)naalden. Locatie tijdelijk pa...</td>\n",
       "      <td>Afval</td>\n",
       "      <td>2018-01-01 14:24:42</td>\n",
       "      <td>52.322388</td>\n",
       "      <td>4.852539</td>\n",
       "      <td>https://www.verbeterdebuurt.nl/uploads/issues/...</td>\n",
       "    </tr>\n",
       "    <tr>\n",
       "      <td>2</td>\n",
       "      <td>Mobiele melding</td>\n",
       "      <td>Bezoek van de buren heeft heel zwaar vuurwerk ...</td>\n",
       "      <td>Afval</td>\n",
       "      <td>2018-01-01 16:44:33</td>\n",
       "      <td>52.332981</td>\n",
       "      <td>4.799058</td>\n",
       "      <td>https://www.verbeterdebuurt.nl/uploads/issues/...</td>\n",
       "    </tr>\n",
       "    <tr>\n",
       "      <td>3</td>\n",
       "      <td>Mobiele melding</td>\n",
       "      <td>De grote groep bewoners van nummer 194 hebben ...</td>\n",
       "      <td>Afval</td>\n",
       "      <td>2018-01-01 16:47:39</td>\n",
       "      <td>52.332989</td>\n",
       "      <td>4.798876</td>\n",
       "      <td>https://www.verbeterdebuurt.nl/uploads/issues/...</td>\n",
       "    </tr>\n",
       "    <tr>\n",
       "      <td>4</td>\n",
       "      <td>Mobiele melding</td>\n",
       "      <td>De ondergrondse papiercontainer achter Albert ...</td>\n",
       "      <td>Afval</td>\n",
       "      <td>2018-01-01 17:10:03</td>\n",
       "      <td>52.105183</td>\n",
       "      <td>5.013888</td>\n",
       "      <td>NaN</td>\n",
       "    </tr>\n",
       "    <tr>\n",
       "      <td>...</td>\n",
       "      <td>...</td>\n",
       "      <td>...</td>\n",
       "      <td>...</td>\n",
       "      <td>...</td>\n",
       "      <td>...</td>\n",
       "      <td>...</td>\n",
       "      <td>...</td>\n",
       "    </tr>\n",
       "    <tr>\n",
       "      <td>5796</td>\n",
       "      <td>Mobiele melding</td>\n",
       "      <td>Twee lampen stuk lantaarnpalen</td>\n",
       "      <td>Straatmeubilair en verlichting</td>\n",
       "      <td>2018-02-12 03:06:50</td>\n",
       "      <td>52.334900</td>\n",
       "      <td>4.938544</td>\n",
       "      <td>NaN</td>\n",
       "    </tr>\n",
       "    <tr>\n",
       "      <td>6576</td>\n",
       "      <td>Lantaarnpaal nr 79 brandt niet</td>\n",
       "      <td>Lantaarnpaal nr 79 brandt niet</td>\n",
       "      <td>Straatmeubilair en verlichting</td>\n",
       "      <td>2018-09-28 04:44:34</td>\n",
       "      <td>51.624268</td>\n",
       "      <td>5.893563</td>\n",
       "      <td>NaN</td>\n",
       "    </tr>\n",
       "    <tr>\n",
       "      <td>6898</td>\n",
       "      <td>Mobiele melding</td>\n",
       "      <td>Verlichting bij oversteekplaats brandweerkazer...</td>\n",
       "      <td>Straatmeubilair en verlichting</td>\n",
       "      <td>2018-11-22 04:58:12</td>\n",
       "      <td>51.629852</td>\n",
       "      <td>5.879336</td>\n",
       "      <td>https://www.verbeterdebuurt.nl/uploads/issues/...</td>\n",
       "    </tr>\n",
       "    <tr>\n",
       "      <td>7204</td>\n",
       "      <td>Mobiele melding</td>\n",
       "      <td>Geluidsoverlast, gedreun bassen door muren en ...</td>\n",
       "      <td>Overlast</td>\n",
       "      <td>2018-03-04 04:23:02</td>\n",
       "      <td>52.335644</td>\n",
       "      <td>4.935469</td>\n",
       "      <td>NaN</td>\n",
       "    </tr>\n",
       "    <tr>\n",
       "      <td>7205</td>\n",
       "      <td>Mobiele melding</td>\n",
       "      <td>Geluidsoverlast bassen door muren en vloer heen</td>\n",
       "      <td>Overlast</td>\n",
       "      <td>2018-03-04 04:24:17</td>\n",
       "      <td>52.334862</td>\n",
       "      <td>4.937937</td>\n",
       "      <td>NaN</td>\n",
       "    </tr>\n",
       "  </tbody>\n",
       "</table>\n",
       "<p>120 rows × 7 columns</p>\n",
       "</div>"
      ],
      "text/plain": [
       "                               Title  \\\n",
       "0                    Mobiele melding   \n",
       "1                    Mobiele melding   \n",
       "2                    Mobiele melding   \n",
       "3                    Mobiele melding   \n",
       "4                    Mobiele melding   \n",
       "...                              ...   \n",
       "5796                 Mobiele melding   \n",
       "6576  Lantaarnpaal nr 79 brandt niet   \n",
       "6898                 Mobiele melding   \n",
       "7204                 Mobiele melding   \n",
       "7205                 Mobiele melding   \n",
       "\n",
       "                                            Description  \\\n",
       "0     Rommel bij de afvalcontainer bij parkeerplaats...   \n",
       "1     Afval met (drugs)naalden. Locatie tijdelijk pa...   \n",
       "2     Bezoek van de buren heeft heel zwaar vuurwerk ...   \n",
       "3     De grote groep bewoners van nummer 194 hebben ...   \n",
       "4     De ondergrondse papiercontainer achter Albert ...   \n",
       "...                                                 ...   \n",
       "5796                     Twee lampen stuk lantaarnpalen   \n",
       "6576                     Lantaarnpaal nr 79 brandt niet   \n",
       "6898  Verlichting bij oversteekplaats brandweerkazer...   \n",
       "7204  Geluidsoverlast, gedreun bassen door muren en ...   \n",
       "7205    Geluidsoverlast bassen door muren en vloer heen   \n",
       "\n",
       "                            Category                Date        lat       lon  \\\n",
       "0                              Afval 2018-01-01 12:43:52  51.374557  6.140902   \n",
       "1                              Afval 2018-01-01 14:24:42  52.322388  4.852539   \n",
       "2                              Afval 2018-01-01 16:44:33  52.332981  4.799058   \n",
       "3                              Afval 2018-01-01 16:47:39  52.332989  4.798876   \n",
       "4                              Afval 2018-01-01 17:10:03  52.105183  5.013888   \n",
       "...                              ...                 ...        ...       ...   \n",
       "5796  Straatmeubilair en verlichting 2018-02-12 03:06:50  52.334900  4.938544   \n",
       "6576  Straatmeubilair en verlichting 2018-09-28 04:44:34  51.624268  5.893563   \n",
       "6898  Straatmeubilair en verlichting 2018-11-22 04:58:12  51.629852  5.879336   \n",
       "7204                        Overlast 2018-03-04 04:23:02  52.335644  4.935469   \n",
       "7205                        Overlast 2018-03-04 04:24:17  52.334862  4.937937   \n",
       "\n",
       "                                              Image_url  \n",
       "0     https://www.verbeterdebuurt.nl/uploads/issues/...  \n",
       "1     https://www.verbeterdebuurt.nl/uploads/issues/...  \n",
       "2     https://www.verbeterdebuurt.nl/uploads/issues/...  \n",
       "3     https://www.verbeterdebuurt.nl/uploads/issues/...  \n",
       "4                                                   NaN  \n",
       "...                                                 ...  \n",
       "5796                                                NaN  \n",
       "6576                                                NaN  \n",
       "6898  https://www.verbeterdebuurt.nl/uploads/issues/...  \n",
       "7204                                                NaN  \n",
       "7205                                                NaN  \n",
       "\n",
       "[120 rows x 7 columns]"
      ]
     },
     "execution_count": 59,
     "metadata": {},
     "output_type": "execute_result"
    }
   ],
   "source": [
    "per_uur.head()"
   ]
  },
  {
   "cell_type": "code",
   "execution_count": 32,
   "metadata": {},
   "outputs": [
    {
     "name": "stdout",
     "output_type": "stream",
     "text": [
      "['Afval' 'Water en riolering' 'Verkeer en bestrating'\n",
      " 'Groen en speelvoorzieningen' 'Straatmeubilair en verlichting' 'Overlast'\n",
      " 'Overig' 'Bouw' 'Onderhoud stoep, straat en fietspad' 'Afspraken werf'\n",
      " 'Gebouwen' 'Graffiti' 'Groen' 'Hondenpoep' 'Ongedierte' 'Parkeren'\n",
      " 'Riolering/Straatkolken' 'Speelvoorzieningen' 'Straatmeubilair'\n",
      " 'Verkeerszaken' 'Verlichting' 'Watergangen' 'Wegen/Trottoirs'\n",
      " 'Afvalbak vol' 'Blokcontainer' 'Glasbak' 'Grijscontainer' 'Grof afval'\n",
      " 'Illegale storting' 'Zwerfvuil' 'Hondenpoep/loslopende honden'\n",
      " 'Speeltoestel' 'Ondergrondse container' 'Onverlichte locatie'\n",
      " '(Hoofd)Riool' 'Wateroverlast' 'Fietspaden' 'Afzetpalen' 'Verkeersborden'\n",
      " 'Bewegwijzering' 'Stoplichten' 'Overige zaken'\n",
      " 'Lampbehuizing zichtbaar stuk' 'Lichtmast aangereden' 'Gazon'\n",
      " 'Beplanting of onkruid' 'Bomen' 'Hinderlijk parkeren'\n",
      " 'Minder dan Straatmeubilair en verlichting lampen branden wel/niet'\n",
      " 'Lichtmast defect' 'Verlichting gewenst/ongewenst' 'Eikenprocessierups'\n",
      " 'Klinkers/tegels' 'Klinkers/Tegels'\n",
      " 'Meubilair, Speeltoestellen, Prullebakken' 'Riolering'\n",
      " 'Straatverlichting' 'Vandalisme, Bekladding, Schade'\n",
      " 'Verkeer en Parkeren' 'Wegen, Borden' 'Groenvoorzieningen'\n",
      " 'Veeg/zwerfvuil' 'Verkeerd aangeboden grofvuil'\n",
      " 'Verkeerd aangeboden huisafval' 'Container is vol' 'Container is kapot'\n",
      " 'Prullenbak vol' 'Fietswrak' 'Fietsrek/nietje'\n",
      " 'Verkeersbord, verkeersafzetting' 'Hinderlijk geplaatst object'\n",
      " 'Groenvoorziening' 'Honden(poep)' 'Vuuwerk-, stank/geluidsoverlast'\n",
      " 'Graffiti/wildplak' 'Put/riolering verstopt'\n",
      " 'Omleiding/belijning verkeer' 'Speelplaats'\n",
      " 'Straatverlichting en klokken' 'Begraafplaatsen' 'Bestrating'\n",
      " 'Openbare verlichting' 'Verkeer' 'Markt' 'Kadavers'\n",
      " 'Straatmeubilair en speelvoorzieningen' 'Vandalisme' 'Wegen en verkeer'\n",
      " 'Vernieling' 'Verkeer en Bestrating']\n"
     ]
    }
   ],
   "source": [
    "print(df[\"Category\"].unique())"
   ]
  },
  {
   "cell_type": "code",
   "execution_count": null,
   "metadata": {},
   "outputs": [],
   "source": []
  }
 ],
 "metadata": {
  "kernelspec": {
   "display_name": "Python 3",
   "language": "python",
   "name": "python3"
  },
  "language_info": {
   "codemirror_mode": {
    "name": "ipython",
    "version": 3
   },
   "file_extension": ".py",
   "mimetype": "text/x-python",
   "name": "python",
   "nbconvert_exporter": "python",
   "pygments_lexer": "ipython3",
   "version": "3.7.4"
  }
 },
 "nbformat": 4,
 "nbformat_minor": 2
}
