{
 "cells": [
  {
   "cell_type": "markdown",
   "metadata": {},
   "source": [
    "# Zwerfval\n",
    "\n",
    "![Zwerfval in New York](https://upload.wikimedia.org/wikipedia/commons/thumb/9/9a/Litter_New_York_City.JPG/1024px-Litter_New_York_City.JPG \"Zwerfafval in New York\")\n",
    "\n",
    "Zwerfafval is vervelend. Wie is er eigenlijk niet tegen? RWS in ieder geval wel, want we zijn een van de partijen achter GemeenteSchoon: Het kenniscentrum dat gemeenten helpt tegen zwerfafval. \n",
    "\n",
    "Een probleem is inzicht krijgen in hoe groot het probleem nou is, en waar het zit. In deze opdracht gaan we bronnen verzamelen en combineren om zo een overzicht te krijgen van het zwerfafvalprobleem.\n",
    "\n",
    "## Deelopdracht 1\n",
    "\n",
    "> Hieronder vind je een dataset (verkregen van Verbeterdebuurt.nl) met allerlei meldingen gedaan door burgers. \n",
    ">  1. Verken deze dataset met de snippets die je hieronder vind. \n",
    ">  2. Filter de relevante meldingen\n",
    ">  3. Krijg een indruk van wat er speelt en waar"
   ]
  },
  {
   "cell_type": "code",
   "execution_count": 21,
   "metadata": {},
   "outputs": [
    {
     "data": {
      "text/plain": [
       "count     70109\n",
       "unique       91\n",
       "top       Afval\n",
       "freq       9606\n",
       "Name: Category, dtype: object"
      ]
     },
     "execution_count": 21,
     "metadata": {},
     "output_type": "execute_result"
    }
   ],
   "source": [
    "import pandas as pd \n",
    "df = pd.read_csv(\"data/vdv_problems_2018.csv\")\n",
    "\n",
    "## PAAR HANDIGE VERKENNENDE OPTIES \n",
    "# Voer ze even los uit in een codeblok\n",
    "# 1. print de eerste paar rijen van een dataframe\n",
    "df.head()\n",
    "# 2 aantal rijen in een dataframe\n",
    "len(df)\n",
    "#beschrijf een colom\n",
    "df[\"Category\"].describe()"
   ]
  },
  {
   "cell_type": "code",
   "execution_count": 18,
   "metadata": {},
   "outputs": [
    {
     "data": {
      "text/plain": [
       "count     70109\n",
       "unique       91\n",
       "top       Afval\n",
       "freq       9606\n",
       "Name: Category, dtype: object"
      ]
     },
     "execution_count": 18,
     "metadata": {},
     "output_type": "execute_result"
    }
   ],
   "source": [
    "from mpl_toolkits.basemap import Basemap\n",
    "import matplotlib.pyplot as plt\n",
    "\n",
    "# A basic map\n",
    "m=Basemap(llcrnrlon=50, llcrnrlat=54,urcrnrlon=160,urcrnrlat=80)\n",
    "m.drawmapboundary(fill_color='#A6CAE0', linewidth=0)\n",
    "m.fillcontinents(color='grey', alpha=0.7, lake_color='grey')\n",
    "m.drawcoastlines(linewidth=0.1, color=\"white\")\n",
    " \n",
    "# Add a marker per city of the data frame!\n",
    "m.plot(data['lat'], data['lon'], linestyle='none', marker=\"o\", markersize=16, alpha=0.6, c=\"orange\", markeredgecolor=\"black\", markeredgewidth=1)\n"
   ]
  }
 ],
 "metadata": {
  "kernelspec": {
   "display_name": "Python 3",
   "language": "python",
   "name": "python3"
  },
  "language_info": {
   "codemirror_mode": {
    "name": "ipython",
    "version": 3
   },
   "file_extension": ".py",
   "mimetype": "text/x-python",
   "name": "python",
   "nbconvert_exporter": "python",
   "pygments_lexer": "ipython3",
   "version": "3.7.3"
  }
 },
 "nbformat": 4,
 "nbformat_minor": 2
}
